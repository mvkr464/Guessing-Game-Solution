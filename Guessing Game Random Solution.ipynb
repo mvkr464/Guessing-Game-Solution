{
 "cells": [
  {
   "cell_type": "code",
   "execution_count": null,
   "id": "32a2f079",
   "metadata": {},
   "outputs": [],
   "source": [
    "#Guessing Game Challenge - Solution\n",
    "#Let's use while loops to create a guessing game.\n",
    "\n",
    "#The Challenge:\n",
    "\n",
    "#Write a program that picks a random integer from 1 to 100, and has players guess the number. The rules are:\n",
    "\n",
    "# 1.If a player's guess is less than 1 or greater than 100, say \"OUT OF BOUNDS\"\n",
    "# On a player's first turn, if their guess is\n",
    "# 2. within 10 of the number, return \"WARM!\"\n",
    "# 3.further than 10 away from the number, return \"COLD!\"\n",
    "# 4.On all subsequent turns, if a guess is\n",
    "# 5.closer to the number than the previous guess return \"WARMER!\"\n",
    "# 6.farther from the number than the previous guess, return \"COLDER!\"\n",
    "# 7.When the player's guess equals the number, tell them they've guessed correctly and how many guesses it took!\n"
   ]
  },
  {
   "cell_type": "code",
   "execution_count": null,
   "id": "7d81ef98",
   "metadata": {},
   "outputs": [],
   "source": [
    "import random\n",
    "\n",
    "num = random.randint(1,100)\n",
    "num"
   ]
  },
  {
   "cell_type": "code",
   "execution_count": null,
   "id": "fc77b0da",
   "metadata": {},
   "outputs": [],
   "source": [
    "# game rules explanation\n",
    "print(\"WELCOME TO GAME GUESS ME!\")\n",
    "print(\"I'm thinking of a number between 1 to 100\")\n",
    "print(\"If your guess is more than 10 away from guess number, I'll tell you you're COLD\")\n",
    "print(\"If your guess is within 10 of guess number, I'll tell you you're WARM\")\n",
    "print(\"If your guess is farther than your most recent guess, I'll say you're getting COLDER\")\n",
    "print(\"If your guess is closer than your most recent guess, I'll say you're getting WARMER\")\n",
    "print(\"LET'S PLAY!\")"
   ]
  },
  {
   "cell_type": "code",
   "execution_count": null,
   "id": "841385b5",
   "metadata": {},
   "outputs": [],
   "source": [
    "# creating a list with 0\n",
    "guesses = [0]"
   ]
  },
  {
   "cell_type": "code",
   "execution_count": null,
   "id": "d6282e1f",
   "metadata": {},
   "outputs": [],
   "source": [
    "while True:\n",
    "\n",
    "    guess = int(input(\"I'm thinking of a number between 1 to 100.\\n  What is your guess? \"))\n",
    "    \n",
    "    if guess < 1 or guess > 100:\n",
    "        print('OUT OF BOUNDS! Please try again: ')\n",
    "        continue\n",
    "    \n",
    "    # here we are comparing the player's guess to our number\n",
    "    if guess == num:\n",
    "        print('CONGRATULATIONS, YOU GUESSED IT IN ONLY {} GUESSES!!'.format(len(guesses)))\n",
    "        break\n",
    "        \n",
    "    # if guess is incorrect, add guess to the list\n",
    "    guesses.append(guess)\n",
    "    \n",
    "    # when testing the first guess, guesses[-2]==0, which evaluates to False\n",
    "    # and brings us down to the second section\n",
    "    \n",
    "    if guesses[-2]:  \n",
    "        if abs(num-guess) < abs(num-guesses[-2]):\n",
    "            print('WARMER!')\n",
    "        else:\n",
    "            print('COLDER!')\n",
    "   \n",
    "    else:\n",
    "        if abs(num-guess) <= 10:\n",
    "            print('WARM!')\n",
    "        else:\n",
    "            print('COLD!')"
   ]
  },
  {
   "cell_type": "code",
   "execution_count": null,
   "id": "07b7b10e",
   "metadata": {},
   "outputs": [],
   "source": []
  }
 ],
 "metadata": {
  "kernelspec": {
   "display_name": "Python 3 (ipykernel)",
   "language": "python",
   "name": "python3"
  },
  "language_info": {
   "codemirror_mode": {
    "name": "ipython",
    "version": 3
   },
   "file_extension": ".py",
   "mimetype": "text/x-python",
   "name": "python",
   "nbconvert_exporter": "python",
   "pygments_lexer": "ipython3",
   "version": "3.9.12"
  }
 },
 "nbformat": 4,
 "nbformat_minor": 5
}
