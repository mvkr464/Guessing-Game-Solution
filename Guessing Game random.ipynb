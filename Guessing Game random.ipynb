{
 "cells": [
  {
   "cell_type": "code",
   "execution_count": null,
   "id": "32a2f079",
   "metadata": {},
   "outputs": [],
   "source": [
    "#Guessing Game Challenge - Solution\n",
    "#Let's use while loops to create a guessing game.\n",
    "\n",
    "#The Challenge:\n",
    "\n",
    "#Write a program that picks a random integer from 1 to 100, and has players guess the number. The rules are:\n",
    "\n",
    "# 1.If a player's guess is less than 1 or greater than 100, say \"OUT OF BOUNDS\"\n",
    "# On a player's first turn, if their guess is\n",
    "# 2. within 10 of the number, return \"WARM!\"\n",
    "# 3.further than 10 away from the number, return \"COLD!\"\n",
    "# 4.On all subsequent turns, if a guess is\n",
    "# 5.closer to the number than the previous guess return \"WARMER!\"\n",
    "# 6.farther from the number than the previous guess, return \"COLDER!\"\n",
    "# 7.When the player's guess equals the number, tell them they've guessed correctly and how many guesses it took!\n"
   ]
  },
  {
   "cell_type": "code",
   "execution_count": 4,
   "id": "7d81ef98",
   "metadata": {},
   "outputs": [
    {
     "data": {
      "text/plain": [
       "52"
      ]
     },
     "execution_count": 4,
     "metadata": {},
     "output_type": "execute_result"
    }
   ],
   "source": [
    "import random\n",
    "\n",
    "num = random.randint(1,100)\n",
    "num"
   ]
  },
  {
   "cell_type": "code",
   "execution_count": 5,
   "id": "fc77b0da",
   "metadata": {},
   "outputs": [
    {
     "name": "stdout",
     "output_type": "stream",
     "text": [
      "WELCOME TO GUESS ME!\n",
      "I'm thinking of a number between 1 and 100\n",
      "If your guess is more than 10 away from my number, I'll tell you you're COLD\n",
      "If your guess is within 10 of my number, I'll tell you you're WARM\n",
      "If your guess is farther than your most recent guess, I'll say you're getting COLDER\n",
      "If your guess is closer than your most recent guess, I'll say you're getting WARMER\n",
      "LET'S PLAY!\n"
     ]
    }
   ],
   "source": [
    "# game rules explanation\n",
    "print(\"WELCOME TO GAME GUESS ME!\")\n",
    "print(\"I'm thinking of a number between 1 to 100\")\n",
    "print(\"If your guess is more than 10 away from guess number, I'll tell you you're COLD\")\n",
    "print(\"If your guess is within 10 of my number, I'll tell you you're WARM\")\n",
    "print(\"If your guess is farther than your most recent guess, I'll say you're getting COLDER\")\n",
    "print(\"If your guess is closer than your most recent guess, I'll say you're getting WARMER\")\n",
    "print(\"LET'S PLAY!\")"
   ]
  },
  {
   "cell_type": "code",
   "execution_count": null,
   "id": "714b8c11",
   "metadata": {},
   "outputs": [],
   "source": []
  }
 ],
 "metadata": {
  "kernelspec": {
   "display_name": "Python 3 (ipykernel)",
   "language": "python",
   "name": "python3"
  },
  "language_info": {
   "codemirror_mode": {
    "name": "ipython",
    "version": 3
   },
   "file_extension": ".py",
   "mimetype": "text/x-python",
   "name": "python",
   "nbconvert_exporter": "python",
   "pygments_lexer": "ipython3",
   "version": "3.9.12"
  }
 },
 "nbformat": 4,
 "nbformat_minor": 5
}
